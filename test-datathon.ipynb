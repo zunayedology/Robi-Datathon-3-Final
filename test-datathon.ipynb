{
 "cells": [
  {
   "metadata": {},
   "cell_type": "markdown",
   "source": "# Test Notebook for Datathon",
   "id": "e70f869ad406d7bc"
  },
  {
   "metadata": {
    "ExecuteTime": {
     "end_time": "2024-05-23T12:28:37.310670Z",
     "start_time": "2024-05-23T12:28:37.308258Z"
    }
   },
   "cell_type": "code",
   "source": [
    "import pandas as pd\n",
    "import numpy as np\n",
    "import matplotlib.pyplot as plt\n",
    "import seaborn as sns"
   ],
   "id": "89cd1ffd23469d83",
   "outputs": [],
   "execution_count": 1
  },
  {
   "metadata": {
    "ExecuteTime": {
     "end_time": "2024-05-23T12:31:06.036848Z",
     "start_time": "2024-05-23T12:31:06.028543Z"
    }
   },
   "cell_type": "code",
   "source": [
    "df = pd.DataFrame({'A': np.random.randn(5), 'B': np.random.randn(5), 'C': np.random.randn(5)})\n",
    "df"
   ],
   "id": "7a7ac71989010d77",
   "outputs": [
    {
     "data": {
      "text/plain": [
       "          A         B         C\n",
       "0  0.458092 -1.127204 -0.665098\n",
       "1  0.957148 -0.528618 -1.501969\n",
       "2 -0.649857  0.846650  0.569058\n",
       "3 -0.178362  0.795454 -0.058698\n",
       "4  1.064820  0.515354  0.264330"
      ],
      "text/html": [
       "<div>\n",
       "<style scoped>\n",
       "    .dataframe tbody tr th:only-of-type {\n",
       "        vertical-align: middle;\n",
       "    }\n",
       "\n",
       "    .dataframe tbody tr th {\n",
       "        vertical-align: top;\n",
       "    }\n",
       "\n",
       "    .dataframe thead th {\n",
       "        text-align: right;\n",
       "    }\n",
       "</style>\n",
       "<table border=\"1\" class=\"dataframe\">\n",
       "  <thead>\n",
       "    <tr style=\"text-align: right;\">\n",
       "      <th></th>\n",
       "      <th>A</th>\n",
       "      <th>B</th>\n",
       "      <th>C</th>\n",
       "    </tr>\n",
       "  </thead>\n",
       "  <tbody>\n",
       "    <tr>\n",
       "      <th>0</th>\n",
       "      <td>0.458092</td>\n",
       "      <td>-1.127204</td>\n",
       "      <td>-0.665098</td>\n",
       "    </tr>\n",
       "    <tr>\n",
       "      <th>1</th>\n",
       "      <td>0.957148</td>\n",
       "      <td>-0.528618</td>\n",
       "      <td>-1.501969</td>\n",
       "    </tr>\n",
       "    <tr>\n",
       "      <th>2</th>\n",
       "      <td>-0.649857</td>\n",
       "      <td>0.846650</td>\n",
       "      <td>0.569058</td>\n",
       "    </tr>\n",
       "    <tr>\n",
       "      <th>3</th>\n",
       "      <td>-0.178362</td>\n",
       "      <td>0.795454</td>\n",
       "      <td>-0.058698</td>\n",
       "    </tr>\n",
       "    <tr>\n",
       "      <th>4</th>\n",
       "      <td>1.064820</td>\n",
       "      <td>0.515354</td>\n",
       "      <td>0.264330</td>\n",
       "    </tr>\n",
       "  </tbody>\n",
       "</table>\n",
       "</div>"
      ]
     },
     "execution_count": 4,
     "metadata": {},
     "output_type": "execute_result"
    }
   ],
   "execution_count": 4
  },
  {
   "metadata": {
    "ExecuteTime": {
     "end_time": "2024-05-23T12:32:54.603361Z",
     "start_time": "2024-05-23T12:32:54.443771Z"
    }
   },
   "cell_type": "code",
   "source": [
    "sns.barplot(df)\n",
    "plt.show();"
   ],
   "id": "d5d5e894a051b7b6",
   "outputs": [
    {
     "data": {
      "text/plain": [
       "<Figure size 640x480 with 1 Axes>"
      ],
      "image/png": "[encoded data removed]"
     },
     "metadata": {},
     "output_type": "display_data"
    }
   ],
   "execution_count": 7
  },
  {
   "metadata": {},
   "cell_type": "code",
   "outputs": [],
   "execution_count": null,
   "source": "",
   "id": "d44e3520eff8b29b"
  }
 ],
 "metadata": {
  "kernelspec": {
   "display_name": "Python 3",
   "language": "python",
   "name": "python3"
  },
  "language_info": {
   "codemirror_mode": {
    "name": "ipython",
    "version": 2
   },
   "file_extension": ".py",
   "mimetype": "text/x-python",
   "name": "python",
   "nbconvert_exporter": "python",
   "pygments_lexer": "ipython2",
   "version": "2.7.6"
  }
 },
 "nbformat": 4,
 "nbformat_minor": 5
}
